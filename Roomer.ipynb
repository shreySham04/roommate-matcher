{
  "nbformat": 4,
  "nbformat_minor": 0,
  "metadata": {
    "colab": {
      "provenance": [],
      "authorship_tag": "ABX9TyPcDLEMNIaTbklMhA92bu/9",
      "include_colab_link": true
    },
    "kernelspec": {
      "name": "python3",
      "display_name": "Python 3"
    },
    "language_info": {
      "name": "python"
    }
  },
  "cells": [
    {
      "cell_type": "markdown",
      "metadata": {
        "id": "view-in-github",
        "colab_type": "text"
      },
      "source": [
        "<a href=\"https://colab.research.google.com/github/shreySham04/roommate-matcher/blob/main/Roomer.ipynb\" target=\"_parent\"><img src=\"https://colab.research.google.com/assets/colab-badge.svg\" alt=\"Open In Colab\"/></a>"
      ]
    },
    {
      "cell_type": "code",
      "execution_count": 1,
      "metadata": {
        "id": "Jg__ft8YTSf0"
      },
      "outputs": [],
      "source": [
        "import pandas as pd"
      ]
    },
    {
      "cell_type": "code",
      "source": [
        "# Load the CSV file\n",
        "df = pd.read_csv('roomy.csv')\n",
        "\n",
        "# Clean column names\n",
        "df.columns = [col.strip() for col in df.columns]\n",
        "\n",
        "# Function to calculate compatibility score between two users\n",
        "def calculate_compatibility(user1, user2):\n",
        "    score = 0\n",
        "    reasons = []\n",
        "\n",
        "    # City match\n",
        "    city1 = str(user1['Preferred City\\\\Area to live in']).lower()\n",
        "    city2 = str(user2['Preferred City\\\\Area to live in']).lower()\n",
        "    if city1 and city2 and city1 == city2:\n",
        "        score += 5\n",
        "        reasons.append(\"Same city preference\")\n",
        "\n",
        "    # Rent budget match\n",
        "    try:\n",
        "        rent1 = int(''.join(filter(str.isdigit, str(user1['Monthly Rent Budget']))))\n",
        "        rent2 = int(''.join(filter(str.isdigit, str(user2['Monthly Rent Budget']))))\n",
        "        if abs(rent1 - rent2) / max(rent1, rent2) <= 0.2:\n",
        "            score += 5\n",
        "            reasons.append(\"Similar rent budget\")\n",
        "    except:\n",
        "        pass\n",
        "\n",
        "    # Sleeping schedule\n",
        "    if str(user1['Sleeping Schedule']).strip().lower() == str(user2['Sleeping Schedule']).strip().lower():\n",
        "        score += 3\n",
        "        reasons.append(\"Same sleeping schedule\")\n",
        "\n",
        "    # Smoking habits\n",
        "    if str(user1['Smoking Habits']).strip().lower() == str(user2['Smoking Habits']).strip().lower():\n",
        "        score += 2\n",
        "        reasons.append(\"Same smoking habit\")\n",
        "\n",
        "    # Drinking habits\n",
        "    if str(user1['Drinking Habits']).strip().lower() == str(user2['Drinking Habits']).strip().lower():\n",
        "        score += 2\n",
        "        reasons.append(\"Same drinking habit\")\n",
        "\n",
        "    # Cleanliness preference\n",
        "    try:\n",
        "        clean1 = int(user1['Cleanliness Preference'])\n",
        "        clean2 = int(user2['Cleanliness Preference'])\n",
        "        if abs(clean1 - clean2) <= 1:\n",
        "            score += 3\n",
        "            reasons.append(\"Similar cleanliness preference\")\n",
        "    except:\n",
        "        pass\n",
        "\n",
        "    # Cooking habits\n",
        "    if str(user1['Cooking Habits']).strip().lower() == str(user2['Cooking Habits']).strip().lower():\n",
        "        score += 2\n",
        "        reasons.append(\"Same cooking habits\")\n",
        "\n",
        "    # Pet friendliness\n",
        "    pet1 = str(user1['Pets']).strip().lower()\n",
        "    pet2 = str(user2['Pets']).strip().lower()\n",
        "    if (\"open\" in pet1 and \"open\" in pet2) or (\"not\" in pet1 and \"not\" in pet2):\n",
        "        score += 2\n",
        "        reasons.append(\"Similar pet preference\")\n",
        "\n",
        "    # Hobbies / interests\n",
        "    hobbies1 = set(str(user1['Hobbies/Interests']).lower().split(\",\"))\n",
        "    hobbies2 = set(str(user2['Hobbies/Interests']).lower().split(\",\"))\n",
        "    common = hobbies1 & hobbies2\n",
        "    if common:\n",
        "        hobby_score = min(5, len(common)) * 3\n",
        "        score += hobby_score\n",
        "        reasons.append(f\"Common hobbies: {', '.join(common)}\")\n",
        "\n",
        "    # Preferred roommate gender compatibility\n",
        "    pref1 = str(user1['Preferred Roommate Gender']).strip().lower()\n",
        "    gender2 = str(user2['Gender']).strip().lower()\n",
        "    pref2 = str(user2['Preferred Roommate Gender']).strip().lower()\n",
        "    gender1 = str(user1['Gender']).strip().lower()\n",
        "\n",
        "    compatible = False\n",
        "    if (pref1 == 'any' or pref1 == gender2) and (pref2 == 'any' or pref2 == gender1):\n",
        "        compatible = True\n",
        "\n",
        "    if compatible:\n",
        "        score += 3\n",
        "        reasons.append(\"Roommate gender preference compatible\")\n",
        "\n",
        "    return score, reasons\n",
        "\n",
        "# Function to find matches for a specific user by serial number\n",
        "def find_matches_for_user(serial_no, top_n=3):\n",
        "    index = serial_no - 2  # Adjusting for header row and zero-indexing\n",
        "    if index < 0 or index >= len(df):\n",
        "        print(\"Invalid serial number!\")\n",
        "        return\n",
        "\n",
        "    user = df.iloc[index]\n",
        "    user_matches = []\n",
        "    for idx2, other in df.iterrows():\n",
        "        if index == idx2:\n",
        "            continue\n",
        "        score, reasons = calculate_compatibility(user, other)\n",
        "        user_matches.append((other['Full Name'], score, reasons))\n",
        "\n",
        "    user_matches.sort(key=lambda x: x[1], reverse=True)\n",
        "\n",
        "    print(f\"\\nTop matches for {user['Full Name']} (Serial No: {serial_no}):\")\n",
        "    for match_name, score, reasons in user_matches[:top_n]:\n",
        "        print(f\"\\n -> {match_name} (Score: {score})\")\n",
        "        for reason in reasons:\n",
        "            print(f\"   - {reason}\")\n",
        "\n",
        "# Example usage:\n",
        "serial_no = int(input(\"Enter the serial number of the user: \"))\n",
        "find_matches_for_user(serial_no)\n"
      ],
      "metadata": {
        "colab": {
          "base_uri": "https://localhost:8080/"
        },
        "id": "_8Jzd2rKTY8e",
        "outputId": "3a7df4ed-a03c-4201-b6fc-d23d5e19d439"
      },
      "execution_count": 5,
      "outputs": [
        {
          "output_type": "stream",
          "name": "stdout",
          "text": [
            "Enter the serial number of the user: 2\n",
            "\n",
            "Top matches for G.SAKETH REDDY (Serial No: 2):\n",
            "\n",
            " -> THIGULLA CHATRAPATHI REDDY  (Score: 12)\n",
            "   - Same smoking habit\n",
            "   - Similar cleanliness preference\n",
            "   - Same cooking habits\n",
            "   - Similar pet preference\n",
            "   - Roommate gender preference compatible\n",
            "\n",
            " -> Mohiuddin Ahmed  (Score: 12)\n",
            "   - Same drinking habit\n",
            "   - Similar cleanliness preference\n",
            "   - Same cooking habits\n",
            "   - Similar pet preference\n",
            "   - Roommate gender preference compatible\n",
            "\n",
            " -> meghanadh (Score: 12)\n",
            "   - Similar rent budget\n",
            "   - Same smoking habit\n",
            "   - Same drinking habit\n",
            "   - Similar cleanliness preference\n"
          ]
        }
      ]
    },
    {
      "cell_type": "code",
      "source": [],
      "metadata": {
        "id": "QSakajFaTff8"
      },
      "execution_count": null,
      "outputs": []
    }
  ]
}